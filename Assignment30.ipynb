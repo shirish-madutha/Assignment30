{
 "cells": [
  {
   "cell_type": "code",
   "execution_count": null,
   "id": "8c5a1428-7dd9-4e2b-bde4-2e67e28415bd",
   "metadata": {},
   "outputs": [],
   "source": [
    "# Q1. What is the Probability density function?\n",
    "\n",
    "# ans\n",
    "\"\"\" The probability density function (PDF) is a fundamental concept in probability theory\n",
    "and statistics. It describes the probability distribution of a continuous random variable.\n",
    "\n",
    "The PDF is a function that assigns probabilities to different outcomes or values of a\n",
    "continuous random variable. It gives the relative likelihood of observing a particular \n",
    "value or range of values. Unlike discrete random variables, which have a probability mass\n",
    "function (PMF), continuous random variables have a PDF because they can take on an\n",
    "infinite number of values within a given range. \"\"\""
   ]
  },
  {
   "cell_type": "code",
   "execution_count": null,
   "id": "f2699aab-23a7-4d76-baed-239a9c3a7ac4",
   "metadata": {},
   "outputs": [],
   "source": [
    "# Q2. What are the types of Probability distribution?\n",
    "\n",
    "# ans\n",
    "\"\"\" There are several types of probability distributions, each with its own\n",
    "characteristics and applications. Here are some of the commonly encountered probability\n",
    "distributions:\n",
    "\n",
    "Uniform Distribution: In a uniform distribution, all outcomes within a given range are\n",
    "equally likely. The PDF is constant over the range of possible values.\n",
    "\n",
    "Normal Distribution: The normal distribution, also known as the Gaussian distribution,\n",
    "is one of the most important probability distributions. It is characterized by a \n",
    "bell-shaped curve and is symmetric around the mean. Many natural phenomena follow a \n",
    "normal distribution. The PDF is given by the familiar bell-shaped curve.\n",
    "\n",
    "Exponential Distribution: The exponential distribution is often used to model the time\n",
    "between events in a Poisson process. It is characterized by a continuous, non-negative\n",
    "random variable and has a decreasing PDF. It is commonly used in reliability analysis \n",
    "and queueing theory.\n",
    "\n",
    "Poisson Distribution: The Poisson distribution is used to model the number of events\n",
    "occurring in a fixed interval of time or space. It is often used in situations where\n",
    "events occur randomly and independently at a constant average rate. The PDF is discrete \n",
    "and gives the probability of observing a specific number of events.\n",
    "\n",
    "Binomial Distribution: The binomial distribution is used to model the number of successes\n",
    "in a fixed number of independent Bernoulli trials. Each trial can have one of two \n",
    "outcomes (success or failure) with a fixed probability of success. The PDF is discrete\n",
    "and gives the probability of observing a specific number of successes. \"\"\""
   ]
  },
  {
   "cell_type": "code",
   "execution_count": 2,
   "id": "9d0feffd-217d-4850-8403-f526c372354b",
   "metadata": {},
   "outputs": [
    {
     "name": "stdout",
     "output_type": "stream",
     "text": [
      "0.12951759566589174\n"
     ]
    }
   ],
   "source": [
    "\"\"\" Q3. Write a Python function to calculate the probability density function of a normal\n",
    "distribution with given mean and standard deviation at a given point.\"\"\"\n",
    "\n",
    "import math\n",
    "\n",
    "def normal_pdf(x, mean, std_dev):\n",
    "    coefficient = 1 / (std_dev * math.sqrt(2 * math.pi))\n",
    "    exponent = -((x - mean) ** 2) / (2 * std_dev ** 2)\n",
    "    pdf = coefficient * math.exp(exponent)\n",
    "    return pdf\n",
    "\n",
    "mean = 0\n",
    "std_dev = 1\n",
    "x = 1.5\n",
    "pdf_value = normal_pdf(x, mean, std_dev)\n",
    "print(pdf_value)"
   ]
  },
  {
   "cell_type": "code",
   "execution_count": null,
   "id": "52614d75-17d0-493d-a891-09a7daa3e1a7",
   "metadata": {},
   "outputs": [],
   "source": [
    "\"\"\" Q4. What are the properties of Binomial distribution? Give two examples of events\n",
    "where binomial distribution can be applied. \"\"\"\n",
    "\n",
    "# ans\n",
    "\"\"\" The binomial distribution is a discrete probability distribution that models the \n",
    "number of successes in a fixed number of independent Bernoulli trials. It has the\n",
    "following properties:\n",
    "\n",
    "Fixed Number of Trials: The binomial distribution is defined for a fixed number of trials,\n",
    "denoted as \"n.\" Each trial can result in one of two outcomes: success (with probability \n",
    "\"p\") or failure (with probability \"q = 1 - p\").\n",
    "\n",
    "Independent Trials: The trials must be independent of each other, meaning that the\n",
    "outcome of one trial does not affect the outcome of the other trials.\n",
    "\n",
    "Constant Probability: The probability of success \"p\" remains constant across all trials.\n",
    "This property distinguishes the binomial distribution from other distributions, such as\n",
    "the hypergeometric distribution, where the probability can change between trials.\n",
    "\n",
    "Discrete Probability Distribution: The binomial distribution is a discrete distribution,\n",
    "meaning it assigns probabilities to discrete values (whole numbers). The random variable\n",
    "\"X\" represents the number of successes, and it can take values from 0 to n.\n",
    "\n",
    "Two examples of events where the binomial distribution can be applied are:\n",
    "\n",
    "Coin Flips: Suppose you flip a fair coin 10 times and want to know the probability of\n",
    "getting exactly 7 heads. Here, each flip is an independent trial with two outcomes: \n",
    "heads (success) or tails (failure). The probability of getting a head is 0.5, and the\n",
    "probability of getting a tail is 0.5. This scenario can be modeled using a binomial \n",
    "distribution with parameters n = 10 and p = 0.5.\n",
    "\n",
    "Election Outcomes: In a political election, a candidate can either win or lose in each \n",
    "voting district. Suppose there are 20 districts, and the probability of winning a\n",
    "district is 0.6. We can model the number of districts won by the candidate using a\n",
    "binomial distribution with parameters n = 20 and p = 0.6. This distribution can help \n",
    "analyze the likelihood of different outcomes, such as the probability of winning exactly\n",
    "15 districts or more. \"\"\""
   ]
  },
  {
   "cell_type": "code",
   "execution_count": 3,
   "id": "12d3b509-033b-4b7c-bfd8-47b72d364445",
   "metadata": {},
   "outputs": [
    {
     "data": {
      "image/png": "[encoded data removed]",
      "text/plain": [
       "<Figure size 640x480 with 1 Axes>"
      ]
     },
     "metadata": {},
     "output_type": "display_data"
    }
   ],
   "source": [
    "\"\"\" Q5. Generate a random sample of size 1000 from a binomial distribution with \n",
    "probability of success 0.4 and plot a histogram of the results using matplotlib.\"\"\"\n",
    "\n",
    "import numpy as np\n",
    "import matplotlib.pyplot as plt\n",
    "\n",
    "# Set the parameters\n",
    "n = 1000  # Number of trials\n",
    "p = 0.4  # Probability of success\n",
    "\n",
    "# Generate the random sample\n",
    "sample = np.random.binomial(n, p, size=1000)\n",
    "\n",
    "# Plot the histogram\n",
    "plt.hist(sample, bins=20, density=True, alpha=0.75)\n",
    "plt.xlabel('Number of Successes')\n",
    "plt.ylabel('Probability')\n",
    "plt.title('Histogram of Binomial Distribution')\n",
    "plt.show()"
   ]
  },
  {
   "cell_type": "code",
   "execution_count": 4,
   "id": "034f2089-1527-4f52-a65f-fc0574dca768",
   "metadata": {},
   "outputs": [
    {
     "name": "stdout",
     "output_type": "stream",
     "text": [
      "0.7575761331330659\n"
     ]
    }
   ],
   "source": [
    "\"\"\" Q6. Write a Python function to calculate the cumulative distribution function of a \n",
    "Poisson distribution with given mean at a given point. \"\"\"\n",
    "\n",
    "# ans\n",
    "import math\n",
    "\n",
    "def poisson_cdf(k, mean):\n",
    "    cdf = 0.0\n",
    "    for i in range(k + 1):\n",
    "        cdf += math.exp(-mean) * (mean ** i) / math.factorial(i)\n",
    "    return cdf\n",
    "\n",
    "mean = 2.5\n",
    "k = 3\n",
    "cdf_value = poisson_cdf(k, mean)\n",
    "print(cdf_value)"
   ]
  },
  {
   "cell_type": "code",
   "execution_count": null,
   "id": "60d5d2f4-a268-4556-9934-e25bf2d433f3",
   "metadata": {},
   "outputs": [],
   "source": [
    "# Q7. How Binomial distribution different from Poisson distribution?\n",
    "\n",
    "# ans\n",
    "\"\"\" \n",
    "The Binomial distribution and Poisson distribution are both discrete probability \n",
    "distributions, but they differ in their underlying assumptions and applications. \n",
    "Here are some key differences between the two distributions:\n",
    "\n",
    "Assumptions:\n",
    "\n",
    "Binomial Distribution: The binomial distribution assumes a fixed number of independent\n",
    "Bernoulli trials, each with a constant probability of success.\n",
    "Poisson Distribution: The Poisson distribution assumes a random process with a known\n",
    "average rate of events occurring in a fixed interval.\n",
    "\n",
    "Nature of Random Variable:\n",
    "\n",
    "Binomial Distribution: The binomial distribution models the number of successes \n",
    "(or failures) in a fixed number of trials.\n",
    "Poisson Distribution: The Poisson distribution models the number of events occurring in \n",
    "a fixed interval of time or space.\n",
    "\n",
    "Probability of Success:\n",
    "\n",
    "Binomial Distribution: The probability of success in each trial is constant and denoted \n",
    "by \"p.\"\n",
    "Poisson Distribution: The Poisson distribution does not have an explicit probability of\n",
    "success. Instead, it uses a single parameter, denoted by \"λ\" (lambda), which represents\n",
    "the average rate of events occurring in the given interval.\n",
    "\n",
    "Shape and Range:\n",
    "\n",
    "Binomial Distribution: The binomial distribution has a discrete probability mass function\n",
    "(PMF) and is defined for non-negative integer values. It has a finite range from 0 to the\n",
    "number of trials.\n",
    "Poisson Distribution: The Poisson distribution also has a discrete PMF but can take on \n",
    "non-negative integer values ranging from 0 to infinity. \"\"\""
   ]
  },
  {
   "cell_type": "code",
   "execution_count": 5,
   "id": "b69cc1dd-3f83-425d-9c3a-6fe362206e9e",
   "metadata": {},
   "outputs": [
    {
     "name": "stdout",
     "output_type": "stream",
     "text": [
      "Sample Mean: 4.961\n",
      "Sample Variance: 5.031478999999999\n"
     ]
    }
   ],
   "source": [
    "\"\"\" Q8. Generate a random sample of size 1000 from a Poisson distribution with mean 5 \n",
    "and calculate the sample mean and variance. \"\"\"\n",
    "\n",
    "import numpy as np\n",
    "\n",
    "# Set the parameters\n",
    "mean = 5\n",
    "sample_size = 1000\n",
    "\n",
    "# Generate the random sample\n",
    "sample = np.random.poisson(mean, size=sample_size)\n",
    "\n",
    "# Calculate the sample mean and variance\n",
    "sample_mean = np.mean(sample)\n",
    "sample_variance = np.var(sample)\n",
    "\n",
    "# Print the results\n",
    "print(\"Sample Mean:\", sample_mean)\n",
    "print(\"Sample Variance:\", sample_variance)"
   ]
  },
  {
   "cell_type": "code",
   "execution_count": null,
   "id": "3054db22-b5e5-4132-8c75-77c540f9e781",
   "metadata": {},
   "outputs": [],
   "source": [
    "# Q9. How mean and variance are related in Binomial distribution and Poisson distribution?\n",
    "\n",
    "# ans\n",
    "\"\"\" For the Binomial distribution:\n",
    "\n",
    "Mean: The mean of a Binomial distribution with parameters n (number of trials) and p \n",
    "(probability of success) is given by the formula mean = n * p.\n",
    "Variance: The variance of a Binomial distribution is given by the formula variance =\n",
    "n * p * (1 - p).\n",
    "In the Binomial distribution, the variance depends on both the number of trials (n) and \n",
    "the probability of success (p). The variance is highest when p = 0.5 and decreases as p\n",
    "moves away from 0.5 towards either extreme (0 or 1). As the number of trials increases,\n",
    "the variance tends to spread out the distribution.\n",
    "\n",
    "For the Poisson distribution:\n",
    "\n",
    "Mean: The mean of a Poisson distribution is denoted by λ (lambda), which represents the\n",
    "average rate of events occurring in a fixed interval.\n",
    "Variance: The variance of a Poisson distribution is also given by λ (lambda).\n",
    "In the Poisson distribution, the variance is equal to the mean. This property is known\n",
    "as equidispersion, and it implies that the spread of the Poisson distribution is solely \n",
    "determined by its mean. In other words, the variance does not depend on any other\n",
    "parameters, as it does in the Binomial distribution. \"\"\""
   ]
  },
  {
   "cell_type": "code",
   "execution_count": null,
   "id": "4bd7a0f1-42fa-4dd7-a15e-c5b01dd22e46",
   "metadata": {},
   "outputs": [],
   "source": [
    "\"\"\" Q10. In normal distribution with respect to mean position, where does the least \n",
    "frequent data appear? \"\"\"\n",
    "\n",
    "# ans\n",
    "\"\"\" In a normal distribution, the least frequent data appears in the tails of the \n",
    "distribution, farthest away from the mean. The normal distribution is symmetric around\n",
    "its mean, so the frequency of data decreases as you move away from the mean in either\n",
    "direction.\n",
    "\n",
    "Specifically, the data points in the tails of the normal distribution, which are the \n",
    "extreme values, occur with the least frequency. These are the values that are\n",
    "significantly larger or smaller than the mean and are located in the outermost regions\n",
    "of the distribution.\n",
    "\n",
    "For example, in a standard normal distribution (mean = 0, standard deviation = 1), the \n",
    "data points in the tails, such as values below -3 or above +3, occur with relatively\n",
    "low frequency compared to the data points closer to the mean.\n",
    "\n",
    "It's important to note that the normal distribution is continuous, meaning that the \n",
    "probability of observing any specific value is infinitesimally small. However, we can \n",
    "still discuss the frequency or likelihood of data occurring in certain ranges or\n",
    "intervals within the distribution. \"\"\""
   ]
  }
 ],
 "metadata": {
  "kernelspec": {
   "display_name": "Python 3 (ipykernel)",
   "language": "python",
   "name": "python3"
  },
  "language_info": {
   "codemirror_mode": {
    "name": "ipython",
    "version": 3
   },
   "file_extension": ".py",
   "mimetype": "text/x-python",
   "name": "python",
   "nbconvert_exporter": "python",
   "pygments_lexer": "ipython3",
   "version": "3.10.8"
  }
 },
 "nbformat": 4,
 "nbformat_minor": 5
}
